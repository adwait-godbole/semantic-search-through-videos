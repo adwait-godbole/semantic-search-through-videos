{
 "cells": [
  {
   "cell_type": "code",
   "execution_count": 5,
   "metadata": {
    "colab": {
     "base_uri": "https://localhost:8080/"
    },
    "executionInfo": {
     "elapsed": 9551,
     "status": "ok",
     "timestamp": 1715247837527,
     "user": {
      "displayName": "Tanmay Gharat",
      "userId": "00820574987275688830"
     },
     "user_tz": -330
    },
    "id": "IW_z-aqgNjHn",
    "outputId": "9d664629-f7a6-4188-acfa-1cf5c68b6845"
   },
   "outputs": [
    {
     "name": "stdout",
     "output_type": "stream",
     "text": [
      "Collecting openai==0.28\n",
      "  Downloading openai-0.28.0-py3-none-any.whl (76 kB)\n",
      "\u001b[2K     \u001b[90m━━━━━━━━━━━━━━━━━━━━━━━━━━━━━━━━━━━━━━━━\u001b[0m \u001b[32m76.5/76.5 kB\u001b[0m \u001b[31m1.3 MB/s\u001b[0m eta \u001b[36m0:00:00\u001b[0m\n",
      "\u001b[?25hRequirement already satisfied: requests>=2.20 in /usr/local/lib/python3.10/dist-packages (from openai==0.28) (2.31.0)\n",
      "Requirement already satisfied: tqdm in /usr/local/lib/python3.10/dist-packages (from openai==0.28) (4.66.4)\n",
      "Requirement already satisfied: aiohttp in /usr/local/lib/python3.10/dist-packages (from openai==0.28) (3.9.5)\n",
      "Requirement already satisfied: charset-normalizer<4,>=2 in /usr/local/lib/python3.10/dist-packages (from requests>=2.20->openai==0.28) (3.3.2)\n",
      "Requirement already satisfied: idna<4,>=2.5 in /usr/local/lib/python3.10/dist-packages (from requests>=2.20->openai==0.28) (3.7)\n",
      "Requirement already satisfied: urllib3<3,>=1.21.1 in /usr/local/lib/python3.10/dist-packages (from requests>=2.20->openai==0.28) (2.0.7)\n",
      "Requirement already satisfied: certifi>=2017.4.17 in /usr/local/lib/python3.10/dist-packages (from requests>=2.20->openai==0.28) (2024.2.2)\n",
      "Requirement already satisfied: aiosignal>=1.1.2 in /usr/local/lib/python3.10/dist-packages (from aiohttp->openai==0.28) (1.3.1)\n",
      "Requirement already satisfied: attrs>=17.3.0 in /usr/local/lib/python3.10/dist-packages (from aiohttp->openai==0.28) (23.2.0)\n",
      "Requirement already satisfied: frozenlist>=1.1.1 in /usr/local/lib/python3.10/dist-packages (from aiohttp->openai==0.28) (1.4.1)\n",
      "Requirement already satisfied: multidict<7.0,>=4.5 in /usr/local/lib/python3.10/dist-packages (from aiohttp->openai==0.28) (6.0.5)\n",
      "Requirement already satisfied: yarl<2.0,>=1.0 in /usr/local/lib/python3.10/dist-packages (from aiohttp->openai==0.28) (1.9.4)\n",
      "Requirement already satisfied: async-timeout<5.0,>=4.0 in /usr/local/lib/python3.10/dist-packages (from aiohttp->openai==0.28) (4.0.3)\n",
      "Installing collected packages: openai\n",
      "Successfully installed openai-0.28.0\n"
     ]
    }
   ],
   "source": [
    "!pip install openai==0.28"
   ]
  },
  {
   "cell_type": "code",
   "execution_count": null,
   "metadata": {
    "executionInfo": {
     "elapsed": 1413,
     "status": "ok",
     "timestamp": 1715248799754,
     "user": {
      "displayName": "Tanmay Gharat",
      "userId": "00820574987275688830"
     },
     "user_tz": -330
    },
    "id": "Je69G6AzncEB"
   },
   "outputs": [],
   "source": [
    "import openai\n",
    "import json\n",
    "\n",
    "from dotenv import load_dotenv\n",
    "load_dotenv()\n",
    "import os\n",
    "openai.api_key = os.getenv(\"OPENAI_API_KEY\")\n",
    "\n",
    "def summarize_text(prompt, transcript, captions):\n",
    "    prompt += \"\\n\\nTranscript - \" + transcript + \"\\n\\nCaptions - \" + captions\n",
    "\n",
    "    response = openai.Completion.create(\n",
    "        engine=\"davinci-002\",\n",
    "        prompt=prompt,\n",
    "        max_tokens=20,\n",
    "        temperature=0.5,\n",
    "        top_p=1,\n",
    "        frequency_penalty=0,\n",
    "        presence_penalty=0\n",
    "    )\n",
    "    return response.choices[0].text.strip()\n",
    "\n",
    "def summarize_json_file(input_file):\n",
    "    with open(input_file, 'r+') as f:\n",
    "        data = json.load(f)\n",
    "\n",
    "        for item in data:\n",
    "            prompt ='''You will be given image captions from previous frames of a clip.\n",
    "            You will also be given the transcript of the current clip, a list of identified actions that may be being performed in that clip, and the identified person in the current frame.\n",
    "            The generated image caption and identified action may be partially or fully incorrect.\n",
    "            If you feel the data is incorrect, do not include it in the output.\n",
    "            If data is missing, it will say 'None'.\n",
    "            Your job is to create a great caption or explanation for the current frame while keeping in mind the context provided by the previous captions, transcript, and identified person.'''\n",
    "            transcript = item.get('text', 'None')\n",
    "            captions = item.get('merged_caption', 'None')\n",
    "            summary = summarize_text(prompt, transcript, captions)\n",
    "            item['summary'] = summary\n",
    "            del item['text']\n",
    "            del item['merged_caption']\n",
    "\n",
    "        f.seek(0)\n",
    "        json.dump(data, f, indent=4)\n",
    "        f.truncate()\n",
    "\n",
    "# Replace 'input.json' with your input file path\n",
    "summarize_json_file('/content/transcripts.json')\n"
   ]
  },
  {
   "cell_type": "code",
   "execution_count": 1,
   "metadata": {
    "colab": {
     "base_uri": "https://localhost:8080/"
    },
    "executionInfo": {
     "elapsed": 13,
     "status": "ok",
     "timestamp": 1715247772231,
     "user": {
      "displayName": "Tanmay Gharat",
      "userId": "00820574987275688830"
     },
     "user_tz": -330
    },
    "id": "DxNiuaAoCXvv",
    "outputId": "51498b48-dea2-4a3b-fee0-a36673c00f39"
   },
   "outputs": [
    {
     "name": "stdout",
     "output_type": "stream",
     "text": [
      "Updated data with new formatted timestamps has been saved to converted_data.json\n"
     ]
    }
   ],
   "source": [
    "import json\n",
    "import math\n",
    "\n",
    "\n",
    "\n",
    "\n",
    "def format_seconds(seconds):\n",
    "    return f\"{math.floor(seconds)}\"\n",
    "\n",
    "\n",
    "def read_json_file(filename):\n",
    "    with open(filename, 'r') as file:\n",
    "        return json.load(file)\n",
    "\n",
    "input_file = \"/content/drive/MyDrive/Final year Pro/video-transcript.json\"\n",
    "\n",
    "data = read_json_file(input_file)\n",
    "\n",
    "for item in data:\n",
    "    item[\"start\"] = format_seconds(item[\"start\"])\n",
    "    item[\"end\"] = format_seconds(item[\"end\"])\n",
    "\n",
    "output_file = \"converted_data.json\"\n",
    "with open(output_file, \"w\") as outfile:\n",
    "    json.dump(data, outfile, indent=4)\n",
    "\n",
    "print(\"Updated data with new formatted timestamps has been saved to\", output_file)\n"
   ]
  },
  {
   "cell_type": "code",
   "execution_count": 2,
   "metadata": {
    "colab": {
     "base_uri": "https://localhost:8080/"
    },
    "executionInfo": {
     "elapsed": 570,
     "status": "ok",
     "timestamp": 1715247772794,
     "user": {
      "displayName": "Tanmay Gharat",
      "userId": "00820574987275688830"
     },
     "user_tz": -330
    },
    "id": "6cfdErINGfNQ",
    "outputId": "0ef6eed8-3df9-4068-8d52-132b7b55f762"
   },
   "outputs": [
    {
     "name": "stdout",
     "output_type": "stream",
     "text": [
      "Updated transcript data with merged captions has been saved to updated_transcript.json\n"
     ]
    }
   ],
   "source": [
    "import json\n",
    "\n",
    "# Function to read JSON data from file\n",
    "def read_json_file(filename):\n",
    "    with open(filename, 'r') as file:\n",
    "        return json.load(file)\n",
    "\n",
    "# Read captions JSON data from file\n",
    "captions_file = \"/content/drive/MyDrive/Final year Pro/video-captions.json\"\n",
    "captions_data = read_json_file(captions_file)\n",
    "\n",
    "# Read transcript JSON data from file\n",
    "transcript_file = \"/content/converted_data.json\"\n",
    "transcript_data = read_json_file(transcript_file)\n",
    "\n",
    "# Iterate over each transcript entry\n",
    "for item in transcript_data:\n",
    "    start_time = item[\"start\"]\n",
    "    end_time = item[\"end\"]\n",
    "\n",
    "    # Find captions within the duration\n",
    "    captions_within_duration = {}\n",
    "    for frame_timestamp, caption_text in captions_data.items():\n",
    "        frame_number = int(frame_timestamp.split(\"_\")[1].split(\".\")[0])\n",
    "        if int(start_time) <= frame_number <= int(end_time):\n",
    "            captions_within_duration.setdefault(frame_timestamp,caption_text)\n",
    "\n",
    "\n",
    "    # Merge captions and append to transcript entry\n",
    "    # merged_caption = \" \".join(captions_within_duration)\n",
    "    # item[\"merged_caption\"] = merged_caption\n",
    "    item[\"image_captions\"]= captions_within_duration\n",
    "\n",
    "# Write the updated transcript data to a new JSON file\n",
    "output_file = \"updated_transcript.json\"\n",
    "with open(output_file, \"w\") as outfile:\n",
    "    json.dump(transcript_data, outfile, indent=4)\n",
    "\n",
    "print(\"Updated transcript data with merged captions has been saved to\", output_file)\n"
   ]
  },
  {
   "cell_type": "code",
   "execution_count": 11,
   "metadata": {
    "colab": {
     "base_uri": "https://localhost:8080/"
    },
    "executionInfo": {
     "elapsed": 12,
     "status": "ok",
     "timestamp": 1715248698380,
     "user": {
      "displayName": "Tanmay Gharat",
      "userId": "00820574987275688830"
     },
     "user_tz": -330
    },
    "id": "32VukkiOkp5j",
    "outputId": "4b7cb681-035e-4ec3-e038-cacae61ebb9d"
   },
   "outputs": [
    {
     "name": "stdout",
     "output_type": "stream",
     "text": [
      "Updated transcript data with merged captions has been saved to transcripts.json\n"
     ]
    }
   ],
   "source": [
    "import json\n",
    "\n",
    "# Function to read JSON data from file\n",
    "def read_json_file(filename):\n",
    "    with open(filename, 'r') as file:\n",
    "        return json.load(file)\n",
    "\n",
    "# Read captions JSON data from file\n",
    "captions_file = \"/content/drive/MyDrive/Final year Pro/video-captions.json\"\n",
    "captions_data = read_json_file(captions_file)\n",
    "\n",
    "# Read transcript JSON data from file\n",
    "transcript_file = \"/content/converted_data.json\"\n",
    "transcript_data = read_json_file(transcript_file)\n",
    "\n",
    "# Iterate over each transcript entry\n",
    "for item in transcript_data:\n",
    "    start_time = item[\"start\"]\n",
    "    end_time = item[\"end\"]\n",
    "\n",
    "    # Find captions within the duration\n",
    "    merged_caption = \"\"\n",
    "    for frame_timestamp, caption_text in captions_data.items():\n",
    "        frame_number = int(frame_timestamp.split(\"_\")[1].split(\".\")[0])\n",
    "        if int(start_time) <= frame_number <= int(end_time):\n",
    "            merged_caption += caption_text + \" \"\n",
    "\n",
    "    # Update transcript entry with merged caption\n",
    "    item[\"merged_caption\"] = merged_caption.strip()\n",
    "\n",
    "# Write the updated transcript data to a new JSON file\n",
    "output_file = \"transcripts.json\"\n",
    "with open(output_file, \"w\") as outfile:\n",
    "    json.dump(transcript_data, outfile, indent=4)\n",
    "\n",
    "print(\"Updated transcript data with merged captions has been saved to\", output_file)\n"
   ]
  },
  {
   "cell_type": "code",
   "execution_count": null,
   "metadata": {
    "id": "mstn-D4Rph2i"
   },
   "outputs": [],
   "source": []
  }
 ],
 "metadata": {
  "colab": {
   "authorship_tag": "ABX9TyP76eJFEIShm0u0VKNkiNnb",
   "mount_file_id": "1iYJAA7Jg1prfJPq-s5BiWMF_O7RQ2rQD",
   "provenance": []
  },
  "kernelspec": {
   "display_name": "Python 3",
   "name": "python3"
  },
  "language_info": {
   "name": "python"
  }
 },
 "nbformat": 4,
 "nbformat_minor": 0
}
